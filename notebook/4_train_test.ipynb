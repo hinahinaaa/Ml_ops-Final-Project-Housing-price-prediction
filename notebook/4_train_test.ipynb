{
 "cells": [
  {
   "cell_type": "code",
   "execution_count": null,
   "id": "4864ee48",
   "metadata": {},
   "outputs": [],
   "source": [
    "from ydata_profiling import ProfileReport\n",
    "import os\n",
    "from sklearn.preprocessing import LabelEncoder\n",
    "import wandb\n",
    "import pandas as pd \n",
    "from sklearn.decomposition import PCA\n",
    "from sklearn.preprocessing import StandardScaler\n",
    "from sklearn.model_selection import train_test_split\n",
    "import xgboost as xgb\n",
    "from sklearn.metrics import mean_squared_error , r2_score\n",
    "import numpy as np \n",
    "import joblib"
   ]
  },
  {
   "cell_type": "code",
   "execution_count": 9,
   "id": "6ac65f8e",
   "metadata": {},
   "outputs": [
    {
     "data": {
      "text/html": [
       "Tracking run with wandb version 0.19.11"
      ],
      "text/plain": [
       "<IPython.core.display.HTML object>"
      ]
     },
     "metadata": {},
     "output_type": "display_data"
    },
    {
     "data": {
      "text/html": [
       "Run data is saved locally in <code>c:\\Users\\ASUS\\Downloads\\Mlop-prj-main\\Mlop-prj-main\\wandb\\run-20250511_083635-rgoec3bl</code>"
      ],
      "text/plain": [
       "<IPython.core.display.HTML object>"
      ]
     },
     "metadata": {},
     "output_type": "display_data"
    },
    {
     "data": {
      "text/html": [
       "Syncing run <strong><a href='https://wandb.ai/kngocun-/predict_house_price/runs/rgoec3bl' target=\"_blank\">cosmic-dawn-295</a></strong> to <a href='https://wandb.ai/kngocun-/predict_house_price' target=\"_blank\">Weights & Biases</a> (<a href='https://wandb.me/developer-guide' target=\"_blank\">docs</a>)<br>"
      ],
      "text/plain": [
       "<IPython.core.display.HTML object>"
      ]
     },
     "metadata": {},
     "output_type": "display_data"
    },
    {
     "data": {
      "text/html": [
       " View project at <a href='https://wandb.ai/kngocun-/predict_house_price' target=\"_blank\">https://wandb.ai/kngocun-/predict_house_price</a>"
      ],
      "text/plain": [
       "<IPython.core.display.HTML object>"
      ]
     },
     "metadata": {},
     "output_type": "display_data"
    },
    {
     "data": {
      "text/html": [
       " View run at <a href='https://wandb.ai/kngocun-/predict_house_price/runs/rgoec3bl' target=\"_blank\">https://wandb.ai/kngocun-/predict_house_price/runs/rgoec3bl</a>"
      ],
      "text/plain": [
       "<IPython.core.display.HTML object>"
      ]
     },
     "metadata": {},
     "output_type": "display_data"
    },
    {
     "name": "stderr",
     "output_type": "stream",
     "text": [
      "\u001b[34m\u001b[1mwandb\u001b[0m:   4 of 4 files downloaded.  \n",
      "\u001b[34m\u001b[1mwandb\u001b[0m: \u001b[32m\u001b[41mERROR\u001b[0m The nbformat package was not found. It is required to save notebook history.\n"
     ]
    },
    {
     "data": {
      "text/html": [],
      "text/plain": [
       "<IPython.core.display.HTML object>"
      ]
     },
     "metadata": {},
     "output_type": "display_data"
    },
    {
     "data": {
      "text/html": [
       " View run <strong style=\"color:#cdcd00\">cosmic-dawn-295</strong> at: <a href='https://wandb.ai/kngocun-/predict_house_price/runs/rgoec3bl' target=\"_blank\">https://wandb.ai/kngocun-/predict_house_price/runs/rgoec3bl</a><br> View project at: <a href='https://wandb.ai/kngocun-/predict_house_price' target=\"_blank\">https://wandb.ai/kngocun-/predict_house_price</a><br>Synced 5 W&B file(s), 0 media file(s), 0 artifact file(s) and 0 other file(s)"
      ],
      "text/plain": [
       "<IPython.core.display.HTML object>"
      ]
     },
     "metadata": {},
     "output_type": "display_data"
    },
    {
     "data": {
      "text/html": [
       "Find logs at: <code>.\\wandb\\run-20250511_083635-rgoec3bl\\logs</code>"
      ],
      "text/plain": [
       "<IPython.core.display.HTML object>"
      ]
     },
     "metadata": {},
     "output_type": "display_data"
    }
   ],
   "source": [
    "run = wandb.init(project=\"predict_house_price\", job_type=\"download_pca_data\")\n",
    "\n",
    "artifact = run.use_artifact('pca_X_y_train_test:latest', type='processed_data')\n",
    "\n",
    "artifact_dir = artifact.download()\n",
    "\n",
    "X_train = pd.read_csv(os.path.join(artifact_dir, \"X_train.csv\"), index_col=0)\n",
    "X_test = pd.read_csv(os.path.join(artifact_dir, \"X_test.csv\"), index_col=0)\n",
    "y_train = pd.read_csv(os.path.join(artifact_dir, \"y_train.csv\"), index_col=0)\n",
    "y_test = pd.read_csv(os.path.join(artifact_dir, \"y_test.csv\"), index_col=0)\n",
    "\n",
    "run.finish()"
   ]
  },
  {
   "cell_type": "code",
   "execution_count": 10,
   "id": "64289a43",
   "metadata": {},
   "outputs": [
    {
     "data": {
      "text/html": [
       "Tracking run with wandb version 0.19.11"
      ],
      "text/plain": [
       "<IPython.core.display.HTML object>"
      ]
     },
     "metadata": {},
     "output_type": "display_data"
    },
    {
     "data": {
      "text/html": [
       "Run data is saved locally in <code>c:\\Users\\ASUS\\Downloads\\Mlop-prj-main\\Mlop-prj-main\\wandb\\run-20250511_083641-fj6ttk32</code>"
      ],
      "text/plain": [
       "<IPython.core.display.HTML object>"
      ]
     },
     "metadata": {},
     "output_type": "display_data"
    },
    {
     "data": {
      "text/html": [
       "Syncing run <strong><a href='https://wandb.ai/kngocun-/predict_house_price/runs/fj6ttk32' target=\"_blank\">iconic-shape-296</a></strong> to <a href='https://wandb.ai/kngocun-/predict_house_price' target=\"_blank\">Weights & Biases</a> (<a href='https://wandb.me/developer-guide' target=\"_blank\">docs</a>)<br>"
      ],
      "text/plain": [
       "<IPython.core.display.HTML object>"
      ]
     },
     "metadata": {},
     "output_type": "display_data"
    },
    {
     "data": {
      "text/html": [
       " View project at <a href='https://wandb.ai/kngocun-/predict_house_price' target=\"_blank\">https://wandb.ai/kngocun-/predict_house_price</a>"
      ],
      "text/plain": [
       "<IPython.core.display.HTML object>"
      ]
     },
     "metadata": {},
     "output_type": "display_data"
    },
    {
     "data": {
      "text/html": [
       " View run at <a href='https://wandb.ai/kngocun-/predict_house_price/runs/fj6ttk32' target=\"_blank\">https://wandb.ai/kngocun-/predict_house_price/runs/fj6ttk32</a>"
      ],
      "text/plain": [
       "<IPython.core.display.HTML object>"
      ]
     },
     "metadata": {},
     "output_type": "display_data"
    },
    {
     "name": "stderr",
     "output_type": "stream",
     "text": [
      "\u001b[34m\u001b[1mwandb\u001b[0m: \u001b[32m\u001b[41mERROR\u001b[0m The nbformat package was not found. It is required to save notebook history.\n"
     ]
    },
    {
     "data": {
      "text/html": [],
      "text/plain": [
       "<IPython.core.display.HTML object>"
      ]
     },
     "metadata": {},
     "output_type": "display_data"
    },
    {
     "data": {
      "text/html": [
       " View run <strong style=\"color:#cdcd00\">iconic-shape-296</strong> at: <a href='https://wandb.ai/kngocun-/predict_house_price/runs/fj6ttk32' target=\"_blank\">https://wandb.ai/kngocun-/predict_house_price/runs/fj6ttk32</a><br> View project at: <a href='https://wandb.ai/kngocun-/predict_house_price' target=\"_blank\">https://wandb.ai/kngocun-/predict_house_price</a><br>Synced 5 W&B file(s), 0 media file(s), 0 artifact file(s) and 0 other file(s)"
      ],
      "text/plain": [
       "<IPython.core.display.HTML object>"
      ]
     },
     "metadata": {},
     "output_type": "display_data"
    },
    {
     "data": {
      "text/html": [
       "Find logs at: <code>.\\wandb\\run-20250511_083641-fj6ttk32\\logs</code>"
      ],
      "text/plain": [
       "<IPython.core.display.HTML object>"
      ]
     },
     "metadata": {},
     "output_type": "display_data"
    }
   ],
   "source": [
    "# khởi tạo run\n",
    "run = wandb.init(project=\"predict_house_price\", job_type=\"model_evaluation\")\n",
    "\n",
    "# giả sử model của Kun là\n",
    "model = xgb.XGBRegressor(\n",
    "    n_estimators=100,    # số lượng cây\n",
    "    learning_rate=0.01,   # tốc độ học\n",
    "    max_depth=6,         # độ sâu tối đa mỗi cây\n",
    "    random_state=42\n",
    ")\n",
    "\n",
    "model.fit(X_train, y_train)  # Train model\n",
    "\n",
    "# lưu model ra file\n",
    "joblib.dump(model, \"xgb_model.pkl\")\n",
    "\n",
    "# tạo artifact\n",
    "artifact = wandb.Artifact(name=\"xgb_model\", type=\"model\")\n",
    "artifact.add_file(\"xgb_model.pkl\")\n",
    "\n",
    "# log artifact\n",
    "run.log_artifact(artifact)\n",
    "\n",
    "# kết thúc run\n",
    "run.finish()\n"
   ]
  },
  {
   "cell_type": "code",
   "execution_count": 11,
   "id": "6dad3f5f",
   "metadata": {},
   "outputs": [],
   "source": [
    "y_pred = model.predict(X_test) "
   ]
  },
  {
   "cell_type": "code",
   "execution_count": 12,
   "id": "f5f98604",
   "metadata": {},
   "outputs": [
    {
     "name": "stdout",
     "output_type": "stream",
     "text": [
      "✅ RMSE: 47280.17\n",
      "📊 R² Score: 0.6292\n"
     ]
    }
   ],
   "source": [
    "# 5. Đánh giá kết quả\n",
    "y_pred_log = model.predict(X_test)\n",
    "y_pred = np.expm1(y_pred_log)\n",
    "y_true = np.expm1(y_test)\n",
    "\n",
    "rmse = np.sqrt(mean_squared_error(y_true, y_pred))\n",
    "r2 = r2_score(y_true, y_pred)\n",
    "\n",
    "print(\"✅ RMSE:\", round(rmse, 2))\n",
    "print(\"📊 R² Score:\", round(r2, 4))"
   ]
  },
  {
   "cell_type": "code",
   "execution_count": 13,
   "id": "94811c9a",
   "metadata": {},
   "outputs": [
    {
     "data": {
      "text/html": [
       "Tracking run with wandb version 0.19.11"
      ],
      "text/plain": [
       "<IPython.core.display.HTML object>"
      ]
     },
     "metadata": {},
     "output_type": "display_data"
    },
    {
     "data": {
      "text/html": [
       "Run data is saved locally in <code>c:\\Users\\ASUS\\Downloads\\Mlop-prj-main\\Mlop-prj-main\\wandb\\run-20250511_083645-vuy6gh0r</code>"
      ],
      "text/plain": [
       "<IPython.core.display.HTML object>"
      ]
     },
     "metadata": {},
     "output_type": "display_data"
    },
    {
     "data": {
      "text/html": [
       "Syncing run <strong><a href='https://wandb.ai/kngocun-/predict_house_price/runs/vuy6gh0r' target=\"_blank\">radiant-tree-297</a></strong> to <a href='https://wandb.ai/kngocun-/predict_house_price' target=\"_blank\">Weights & Biases</a> (<a href='https://wandb.me/developer-guide' target=\"_blank\">docs</a>)<br>"
      ],
      "text/plain": [
       "<IPython.core.display.HTML object>"
      ]
     },
     "metadata": {},
     "output_type": "display_data"
    },
    {
     "data": {
      "text/html": [
       " View project at <a href='https://wandb.ai/kngocun-/predict_house_price' target=\"_blank\">https://wandb.ai/kngocun-/predict_house_price</a>"
      ],
      "text/plain": [
       "<IPython.core.display.HTML object>"
      ]
     },
     "metadata": {},
     "output_type": "display_data"
    },
    {
     "data": {
      "text/html": [
       " View run at <a href='https://wandb.ai/kngocun-/predict_house_price/runs/vuy6gh0r' target=\"_blank\">https://wandb.ai/kngocun-/predict_house_price/runs/vuy6gh0r</a>"
      ],
      "text/plain": [
       "<IPython.core.display.HTML object>"
      ]
     },
     "metadata": {},
     "output_type": "display_data"
    },
    {
     "name": "stderr",
     "output_type": "stream",
     "text": [
      "\u001b[34m\u001b[1mwandb\u001b[0m: \u001b[32m\u001b[41mERROR\u001b[0m The nbformat package was not found. It is required to save notebook history.\n"
     ]
    },
    {
     "data": {
      "text/html": [],
      "text/plain": [
       "<IPython.core.display.HTML object>"
      ]
     },
     "metadata": {},
     "output_type": "display_data"
    },
    {
     "data": {
      "text/html": [
       "<br>    <style><br>        .wandb-row {<br>            display: flex;<br>            flex-direction: row;<br>            flex-wrap: wrap;<br>            justify-content: flex-start;<br>            width: 100%;<br>        }<br>        .wandb-col {<br>            display: flex;<br>            flex-direction: column;<br>            flex-basis: 100%;<br>            flex: 1;<br>            padding: 10px;<br>        }<br>    </style><br><div class=\"wandb-row\"><div class=\"wandb-col\"><h3>Run history:</h3><br/><table class=\"wandb\"><tr><td>RMSE</td><td>▁</td></tr></table><br/></div><div class=\"wandb-col\"><h3>Run summary:</h3><br/><table class=\"wandb\"><tr><td>RMSE</td><td>47280.17056</td></tr></table><br/></div></div>"
      ],
      "text/plain": [
       "<IPython.core.display.HTML object>"
      ]
     },
     "metadata": {},
     "output_type": "display_data"
    },
    {
     "data": {
      "text/html": [
       " View run <strong style=\"color:#cdcd00\">radiant-tree-297</strong> at: <a href='https://wandb.ai/kngocun-/predict_house_price/runs/vuy6gh0r' target=\"_blank\">https://wandb.ai/kngocun-/predict_house_price/runs/vuy6gh0r</a><br> View project at: <a href='https://wandb.ai/kngocun-/predict_house_price' target=\"_blank\">https://wandb.ai/kngocun-/predict_house_price</a><br>Synced 5 W&B file(s), 0 media file(s), 0 artifact file(s) and 0 other file(s)"
      ],
      "text/plain": [
       "<IPython.core.display.HTML object>"
      ]
     },
     "metadata": {},
     "output_type": "display_data"
    },
    {
     "data": {
      "text/html": [
       "Find logs at: <code>.\\wandb\\run-20250511_083645-vuy6gh0r\\logs</code>"
      ],
      "text/plain": [
       "<IPython.core.display.HTML object>"
      ]
     },
     "metadata": {},
     "output_type": "display_data"
    }
   ],
   "source": [
    "run = wandb.init(project=\"predict_house_price\", job_type=\"model_evaluation\")\n",
    "\n",
    "wandb.log({\n",
    "    \"RMSE\": rmse,\n",
    "    \"y_pred\": y_pred.tolist()  # Chuyển đổi y_pred sang list nếu cần (WandB không hỗ trợ numpy array trực tiếp)\n",
    "})\n",
    "\n",
    "run.finish()\n"
   ]
  }
 ],
 "metadata": {
  "kernelspec": {
   "display_name": ".venv",
   "language": "python",
   "name": "python3"
  },
  "language_info": {
   "codemirror_mode": {
    "name": "ipython",
    "version": 3
   },
   "file_extension": ".py",
   "mimetype": "text/x-python",
   "name": "python",
   "nbconvert_exporter": "python",
   "pygments_lexer": "ipython3",
   "version": "3.12.9"
  }
 },
 "nbformat": 4,
 "nbformat_minor": 5
}
