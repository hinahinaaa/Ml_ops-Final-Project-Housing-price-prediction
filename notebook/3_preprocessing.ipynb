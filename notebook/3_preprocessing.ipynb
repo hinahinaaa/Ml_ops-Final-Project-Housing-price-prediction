{
 "cells": [
  {
   "cell_type": "code",
   "execution_count": 1,
   "id": "02f1af42",
   "metadata": {},
   "outputs": [
    {
     "data": {
      "text/html": [
       "\n",
       "            <div>\n",
       "                <ins><a href=\"https://ydata.ai/register\">Upgrade to ydata-sdk</a></ins>\n",
       "                <p>\n",
       "                    Improve your data and profiling with ydata-sdk, featuring data quality scoring, redundancy detection, outlier identification, text validation, and synthetic data generation.\n",
       "                </p>\n",
       "            </div>\n",
       "            "
      ],
      "text/plain": [
       "<IPython.core.display.HTML object>"
      ]
     },
     "metadata": {},
     "output_type": "display_data"
    }
   ],
   "source": [
    "from ydata_profiling import ProfileReport\n",
    "import os\n",
    "from sklearn.preprocessing import LabelEncoder\n",
    "import wandb\n",
    "import pandas as pd \n",
    "from sklearn.decomposition import PCA\n",
    "from sklearn.preprocessing import StandardScaler\n",
    "from sklearn.model_selection import train_test_split\n",
    "import xgboost as xgb\n",
    "from sklearn.metrics import mean_squared_error , r2_score\n",
    "import math  \n",
    "import numpy as np \n",
    "\n"
   ]
  },
  {
   "cell_type": "code",
   "execution_count": 2,
   "id": "612dea76",
   "metadata": {},
   "outputs": [
    {
     "name": "stderr",
     "output_type": "stream",
     "text": [
      "\u001b[34m\u001b[1mwandb\u001b[0m: Currently logged in as: \u001b[33mkngocun\u001b[0m (\u001b[33mkngocun-\u001b[0m) to \u001b[32mhttps://api.wandb.ai\u001b[0m. Use \u001b[1m`wandb login --relogin`\u001b[0m to force relogin\n"
     ]
    },
    {
     "data": {
      "text/html": [
       "Tracking run with wandb version 0.19.11"
      ],
      "text/plain": [
       "<IPython.core.display.HTML object>"
      ]
     },
     "metadata": {},
     "output_type": "display_data"
    },
    {
     "data": {
      "text/html": [
       "Run data is saved locally in <code>c:\\Users\\ASUS\\Downloads\\Mlop-prj-main\\Mlop-prj-main\\wandb\\run-20250511_083957-nc87vn90</code>"
      ],
      "text/plain": [
       "<IPython.core.display.HTML object>"
      ]
     },
     "metadata": {},
     "output_type": "display_data"
    },
    {
     "data": {
      "text/html": [
       "Syncing run <strong><a href='https://wandb.ai/kngocun-/predict_house_price/runs/nc87vn90' target=\"_blank\">faithful-pyramid-298</a></strong> to <a href='https://wandb.ai/kngocun-/predict_house_price' target=\"_blank\">Weights & Biases</a> (<a href='https://wandb.me/developer-guide' target=\"_blank\">docs</a>)<br>"
      ],
      "text/plain": [
       "<IPython.core.display.HTML object>"
      ]
     },
     "metadata": {},
     "output_type": "display_data"
    },
    {
     "data": {
      "text/html": [
       " View project at <a href='https://wandb.ai/kngocun-/predict_house_price' target=\"_blank\">https://wandb.ai/kngocun-/predict_house_price</a>"
      ],
      "text/plain": [
       "<IPython.core.display.HTML object>"
      ]
     },
     "metadata": {},
     "output_type": "display_data"
    },
    {
     "data": {
      "text/html": [
       " View run at <a href='https://wandb.ai/kngocun-/predict_house_price/runs/nc87vn90' target=\"_blank\">https://wandb.ai/kngocun-/predict_house_price/runs/nc87vn90</a>"
      ],
      "text/plain": [
       "<IPython.core.display.HTML object>"
      ]
     },
     "metadata": {},
     "output_type": "display_data"
    },
    {
     "name": "stderr",
     "output_type": "stream",
     "text": [
      "\u001b[34m\u001b[1mwandb\u001b[0m:   1 of 1 files downloaded.  \n",
      "\u001b[34m\u001b[1mwandb\u001b[0m: \u001b[32m\u001b[41mERROR\u001b[0m The nbformat package was not found. It is required to save notebook history.\n"
     ]
    },
    {
     "data": {
      "text/html": [],
      "text/plain": [
       "<IPython.core.display.HTML object>"
      ]
     },
     "metadata": {},
     "output_type": "display_data"
    },
    {
     "data": {
      "text/html": [
       " View run <strong style=\"color:#cdcd00\">faithful-pyramid-298</strong> at: <a href='https://wandb.ai/kngocun-/predict_house_price/runs/nc87vn90' target=\"_blank\">https://wandb.ai/kngocun-/predict_house_price/runs/nc87vn90</a><br> View project at: <a href='https://wandb.ai/kngocun-/predict_house_price' target=\"_blank\">https://wandb.ai/kngocun-/predict_house_price</a><br>Synced 5 W&B file(s), 0 media file(s), 0 artifact file(s) and 0 other file(s)"
      ],
      "text/plain": [
       "<IPython.core.display.HTML object>"
      ]
     },
     "metadata": {},
     "output_type": "display_data"
    },
    {
     "data": {
      "text/html": [
       "Find logs at: <code>.\\wandb\\run-20250511_083957-nc87vn90\\logs</code>"
      ],
      "text/plain": [
       "<IPython.core.display.HTML object>"
      ]
     },
     "metadata": {},
     "output_type": "display_data"
    }
   ],
   "source": [
    "run = wandb.init(project=\"predict_house_price\", job_type=\"load_data\")\n",
    "\n",
    "artifact = run.use_artifact('clean_data_csv:latest', type='processed_data')\n",
    "\n",
    "artifact_dir = artifact.download()\n",
    "\n",
    "file_path = os.path.join(artifact_dir, \"clean_data.csv\")\n",
    "\n",
    "clean_data = pd.read_csv(file_path, keep_default_na=False)\n",
    "\n",
    "run.finish()\n"
   ]
  },
  {
   "cell_type": "code",
   "execution_count": null,
   "id": "4cc66e15",
   "metadata": {},
   "outputs": [
    {
     "name": "stdout",
     "output_type": "stream",
     "text": [
      "<class 'pandas.core.frame.DataFrame'>\n",
      "RangeIndex: 1316 entries, 0 to 1315\n",
      "Data columns (total 84 columns):\n",
      " #   Column           Non-Null Count  Dtype  \n",
      "---  ------           --------------  -----  \n",
      " 0   Unnamed: 0       1316 non-null   int64  \n",
      " 1   Id               1316 non-null   int64  \n",
      " 2   MSSubClass       1316 non-null   int64  \n",
      " 3   MSZoning         1316 non-null   object \n",
      " 4   LotFrontage      1316 non-null   float64\n",
      " 5   LotArea          1316 non-null   int64  \n",
      " 6   Street           1316 non-null   object \n",
      " 7   Alley            1316 non-null   object \n",
      " 8   LotShape         1316 non-null   object \n",
      " 9   LandContour      1316 non-null   object \n",
      " 10  Utilities        1316 non-null   object \n",
      " 11  LotConfig        1316 non-null   object \n",
      " 12  LandSlope        1316 non-null   object \n",
      " 13  Neighborhood     1316 non-null   object \n",
      " 14  Condition1       1316 non-null   object \n",
      " 15  Condition2       1316 non-null   object \n",
      " 16  BldgType         1316 non-null   object \n",
      " 17  HouseStyle       1316 non-null   object \n",
      " 18  OverallQual      1316 non-null   int64  \n",
      " 19  OverallCond      1316 non-null   int64  \n",
      " 20  YearBuilt        1316 non-null   int64  \n",
      " 21  YearRemodAdd     1316 non-null   int64  \n",
      " 22  RoofStyle        1316 non-null   object \n",
      " 23  RoofMatl         1316 non-null   object \n",
      " 24  Exterior1st      1316 non-null   object \n",
      " 25  Exterior2nd      1316 non-null   object \n",
      " 26  MasVnrType       1316 non-null   object \n",
      " 27  MasVnrArea       1316 non-null   float64\n",
      " 28  ExterQual        1316 non-null   object \n",
      " 29  ExterCond        1316 non-null   object \n",
      " 30  Foundation       1316 non-null   object \n",
      " 31  BsmtQual         1316 non-null   object \n",
      " 32  BsmtCond         1316 non-null   object \n",
      " 33  BsmtExposure     1316 non-null   object \n",
      " 34  BsmtFinType1     1316 non-null   object \n",
      " 35  BsmtFinSF1       1316 non-null   int64  \n",
      " 36  BsmtFinType2     1316 non-null   object \n",
      " 37  TotalBsmtSF      1316 non-null   int64  \n",
      " 38  Heating          1316 non-null   object \n",
      " 39  HeatingQC        1316 non-null   object \n",
      " 40  CentralAir       1316 non-null   object \n",
      " 41  Electrical       1316 non-null   object \n",
      " 42  1stFlrSF         1316 non-null   int64  \n",
      " 43  2ndFlrSF         1316 non-null   int64  \n",
      " 44  GrLivArea        1316 non-null   int64  \n",
      " 45  BsmtFullBath     1316 non-null   int64  \n",
      " 46  BsmtHalfBath     1316 non-null   int64  \n",
      " 47  FullBath         1316 non-null   int64  \n",
      " 48  HalfBath         1316 non-null   int64  \n",
      " 49  BedroomAbvGr     1316 non-null   int64  \n",
      " 50  KitchenAbvGr     1316 non-null   int64  \n",
      " 51  KitchenQual      1316 non-null   object \n",
      " 52  TotRmsAbvGrd     1316 non-null   int64  \n",
      " 53  Functional       1316 non-null   object \n",
      " 54  Fireplaces       1316 non-null   int64  \n",
      " 55  FireplaceQu      1316 non-null   object \n",
      " 56  GarageType       1316 non-null   object \n",
      " 57  GarageYrBlt      1316 non-null   float64\n",
      " 58  GarageFinish     1316 non-null   object \n",
      " 59  GarageCars       1316 non-null   int64  \n",
      " 60  GarageArea       1316 non-null   int64  \n",
      " 61  GarageQual       1316 non-null   object \n",
      " 62  GarageCond       1316 non-null   object \n",
      " 63  PavedDrive       1316 non-null   object \n",
      " 64  WoodDeckSF       1316 non-null   int64  \n",
      " 65  OpenPorchSF      1316 non-null   int64  \n",
      " 66  EnclosedPorch    1316 non-null   int64  \n",
      " 67  3SsnPorch        1316 non-null   int64  \n",
      " 68  ScreenPorch      1316 non-null   int64  \n",
      " 69  PoolArea         1316 non-null   int64  \n",
      " 70  PoolQC           1316 non-null   object \n",
      " 71  Fence            1316 non-null   object \n",
      " 72  MiscFeature      1316 non-null   object \n",
      " 73  MiscVal          1316 non-null   int64  \n",
      " 74  MoSold           1316 non-null   int64  \n",
      " 75  YrSold           1316 non-null   int64  \n",
      " 76  SaleType         1316 non-null   object \n",
      " 77  SaleCondition    1316 non-null   object \n",
      " 78  SalePrice        1316 non-null   int64  \n",
      " 79  LotArea_log      1316 non-null   float64\n",
      " 80  TotalBsmtSF_log  1316 non-null   float64\n",
      " 81  GrLivArea_log    1316 non-null   float64\n",
      " 82  1stFlrSF_log     1316 non-null   float64\n",
      " 83  2ndFlrSF_log     1316 non-null   float64\n",
      "dtypes: float64(8), int64(33), object(43)\n",
      "memory usage: 863.8+ KB\n"
     ]
    }
   ],
   "source": [
    "clean_data.info()"
   ]
  },
  {
   "cell_type": "code",
   "execution_count": null,
   "id": "57ee143a",
   "metadata": {},
   "outputs": [],
   "source": [
    "drop_cols = [\n",
    "    \"Id\", \"LowQualFinSF\", \"PoolArea\", \"PoolQC\", \"MiscVal\"\n",
    "]\n",
    "clean_data = clean_data.drop(columns=drop_cols, errors=\"ignore\")"
   ]
  },
  {
   "cell_type": "code",
   "execution_count": null,
   "id": "0ff7e511",
   "metadata": {},
   "outputs": [],
   "source": [
    "\n",
    "# Gom nhóm các giá trị hiếm thành \"Other\"\n",
    "\n",
    "# 1. Exterior1st (nhóm < 10 mẫu)\n",
    "count_exterior1 = clean_data['Exterior1st'].value_counts()\n",
    "rare_exterior1 = count_exterior1[count_exterior1 < 10].index.tolist()\n",
    "clean_data['Exterior1st'] = clean_data['Exterior1st'].replace(rare_exterior1, 'Other')\n",
    "\n",
    "# 2. Exterior2nd (nhóm < 10 mẫu)\n",
    "count_exterior2 = clean_data['Exterior2nd'].value_counts()\n",
    "rare_exterior2 = count_exterior2[count_exterior2 < 10].index.tolist()\n",
    "clean_data['Exterior2nd'] = clean_data['Exterior2nd'].replace(rare_exterior2, 'Other')\n",
    "\n",
    "# 3. BsmtFinType2 (nhóm < 100 mẫu)\n",
    "count_bsmt = clean_data['BsmtFinType2'].value_counts()\n",
    "rare_bsmt = count_bsmt[count_bsmt < 100].index.tolist()\n",
    "clean_data['BsmtFinType2'] = clean_data['BsmtFinType2'].replace(rare_bsmt, 'Other')\n",
    "\n",
    "# 4. GarageType (nhóm < 30 mẫu)\n",
    "count_garage = clean_data['GarageType'].value_counts()\n",
    "rare_garage = count_garage[count_garage < 30].index.tolist()\n",
    "clean_data['GarageType'] = clean_data['GarageType'].replace(rare_garage, 'Other')\n",
    "\n",
    "# 5. Fence (nhóm < 60 mẫu)\n",
    "count_fence = clean_data['Fence'].value_counts()\n",
    "rare_fence = count_fence[count_fence < 60].index.tolist()\n",
    "clean_data['Fence'] = clean_data['Fence'].replace(rare_fence, 'Other')\n",
    "\n"
   ]
  },
  {
   "cell_type": "code",
   "execution_count": null,
   "id": "035acb6a",
   "metadata": {},
   "outputs": [],
   "source": [
    "from sklearn.preprocessing import OrdinalEncoder\n",
    "\n",
    "# 1. Encode ordinal features\n",
    "ordinal_cols = [\"ExterQual\", \"KitchenQual\", \"BsmtQual\"]\n",
    "quality_order = [\"None\", \"Po\", \"Fa\", \"TA\", \"Gd\", \"Ex\"]\n",
    "\n",
    "encoder = OrdinalEncoder(categories=[quality_order] * len(ordinal_cols))\n",
    "clean_data[ordinal_cols] = encoder.fit_transform(clean_data[ordinal_cols])\n",
    "\n",
    "# 2. Encode nominal features (còn lại sau khi xử lý rare)\n",
    "ordinal_encoded = set(ordinal_cols)\n",
    "all_cat_cols = clean_data.select_dtypes(include=\"object\").columns.tolist()\n",
    "nominal_cols = [col for col in all_cat_cols if col not in ordinal_encoded]\n",
    "\n",
    "# Chỉ giữ các cột có số nhóm hợp lý (≤ 20)\n",
    "nominal_cols_to_encode = [col for col in nominal_cols if clean_data[col].nunique() <= 20]\n",
    "\n",
    "# 3. One-hot encoding cho các cột này\n",
    "clean_data = pd.get_dummies(clean_data, columns=nominal_cols_to_encode, drop_first=True)\n",
    "\n",
    "# 4. Frequency encoding cho biến nhiều nhóm (ví dụ: Neighborhood)\n",
    "if \"Neighborhood\" in clean_data.columns:\n",
    "    freq_map = clean_data[\"Neighborhood\"].value_counts(normalize=True)\n",
    "    clean_data[\"Neighborhood_FE\"] = clean_data[\"Neighborhood\"].map(freq_map)\n",
    "    clean_data.drop(columns=[\"Neighborhood\"], inplace=True)\n"
   ]
  },
  {
   "cell_type": "code",
   "execution_count": 7,
   "id": "795d294b",
   "metadata": {},
   "outputs": [
    {
     "data": {
      "text/html": [
       "<div>\n",
       "<style scoped>\n",
       "    .dataframe tbody tr th:only-of-type {\n",
       "        vertical-align: middle;\n",
       "    }\n",
       "\n",
       "    .dataframe tbody tr th {\n",
       "        vertical-align: top;\n",
       "    }\n",
       "\n",
       "    .dataframe thead th {\n",
       "        text-align: right;\n",
       "    }\n",
       "</style>\n",
       "<table border=\"1\" class=\"dataframe\">\n",
       "  <thead>\n",
       "    <tr style=\"text-align: right;\">\n",
       "      <th></th>\n",
       "      <th>Unnamed: 0</th>\n",
       "      <th>MSSubClass</th>\n",
       "      <th>LotFrontage</th>\n",
       "      <th>LotArea</th>\n",
       "      <th>OverallQual</th>\n",
       "      <th>OverallCond</th>\n",
       "      <th>YearBuilt</th>\n",
       "      <th>YearRemodAdd</th>\n",
       "      <th>MasVnrArea</th>\n",
       "      <th>ExterQual</th>\n",
       "      <th>BsmtQual</th>\n",
       "      <th>BsmtFinSF1</th>\n",
       "      <th>TotalBsmtSF</th>\n",
       "      <th>1stFlrSF</th>\n",
       "      <th>2ndFlrSF</th>\n",
       "      <th>GrLivArea</th>\n",
       "      <th>BsmtFullBath</th>\n",
       "      <th>BsmtHalfBath</th>\n",
       "      <th>FullBath</th>\n",
       "      <th>HalfBath</th>\n",
       "      <th>BedroomAbvGr</th>\n",
       "      <th>KitchenAbvGr</th>\n",
       "      <th>KitchenQual</th>\n",
       "      <th>TotRmsAbvGrd</th>\n",
       "      <th>Fireplaces</th>\n",
       "      <th>GarageYrBlt</th>\n",
       "      <th>GarageCars</th>\n",
       "      <th>GarageArea</th>\n",
       "      <th>WoodDeckSF</th>\n",
       "      <th>OpenPorchSF</th>\n",
       "      <th>EnclosedPorch</th>\n",
       "      <th>3SsnPorch</th>\n",
       "      <th>ScreenPorch</th>\n",
       "      <th>MoSold</th>\n",
       "      <th>YrSold</th>\n",
       "      <th>SalePrice</th>\n",
       "      <th>LotArea_log</th>\n",
       "      <th>TotalBsmtSF_log</th>\n",
       "      <th>GrLivArea_log</th>\n",
       "      <th>1stFlrSF_log</th>\n",
       "      <th>...</th>\n",
       "      <th>Functional_Sev</th>\n",
       "      <th>Functional_Typ</th>\n",
       "      <th>FireplaceQu_Fa</th>\n",
       "      <th>FireplaceQu_Gd</th>\n",
       "      <th>FireplaceQu_None</th>\n",
       "      <th>FireplaceQu_Po</th>\n",
       "      <th>FireplaceQu_TA</th>\n",
       "      <th>GarageType_BuiltIn</th>\n",
       "      <th>GarageType_Detchd</th>\n",
       "      <th>GarageType_Other</th>\n",
       "      <th>GarageFinish_RFn</th>\n",
       "      <th>GarageFinish_Unf</th>\n",
       "      <th>GarageQual_Fa</th>\n",
       "      <th>GarageQual_Gd</th>\n",
       "      <th>GarageQual_Po</th>\n",
       "      <th>GarageQual_TA</th>\n",
       "      <th>GarageCond_Fa</th>\n",
       "      <th>GarageCond_Gd</th>\n",
       "      <th>GarageCond_Po</th>\n",
       "      <th>GarageCond_TA</th>\n",
       "      <th>PavedDrive_P</th>\n",
       "      <th>PavedDrive_Y</th>\n",
       "      <th>Fence_None</th>\n",
       "      <th>Fence_Other</th>\n",
       "      <th>MiscFeature_Othr</th>\n",
       "      <th>MiscFeature_Shed</th>\n",
       "      <th>SaleType_CWD</th>\n",
       "      <th>SaleType_Con</th>\n",
       "      <th>SaleType_ConLD</th>\n",
       "      <th>SaleType_ConLI</th>\n",
       "      <th>SaleType_ConLw</th>\n",
       "      <th>SaleType_New</th>\n",
       "      <th>SaleType_Oth</th>\n",
       "      <th>SaleType_WD</th>\n",
       "      <th>SaleCondition_AdjLand</th>\n",
       "      <th>SaleCondition_Alloca</th>\n",
       "      <th>SaleCondition_Family</th>\n",
       "      <th>SaleCondition_Normal</th>\n",
       "      <th>SaleCondition_Partial</th>\n",
       "      <th>Neighborhood_FE</th>\n",
       "    </tr>\n",
       "  </thead>\n",
       "  <tbody>\n",
       "    <tr>\n",
       "      <th>0</th>\n",
       "      <td>0</td>\n",
       "      <td>60</td>\n",
       "      <td>65.0</td>\n",
       "      <td>8450</td>\n",
       "      <td>7</td>\n",
       "      <td>5</td>\n",
       "      <td>2003</td>\n",
       "      <td>2003</td>\n",
       "      <td>196.0</td>\n",
       "      <td>4.0</td>\n",
       "      <td>4.0</td>\n",
       "      <td>706</td>\n",
       "      <td>856</td>\n",
       "      <td>856</td>\n",
       "      <td>854</td>\n",
       "      <td>1710</td>\n",
       "      <td>1</td>\n",
       "      <td>0</td>\n",
       "      <td>2</td>\n",
       "      <td>1</td>\n",
       "      <td>3</td>\n",
       "      <td>1</td>\n",
       "      <td>4.0</td>\n",
       "      <td>8</td>\n",
       "      <td>0</td>\n",
       "      <td>2003.0</td>\n",
       "      <td>2</td>\n",
       "      <td>548</td>\n",
       "      <td>0</td>\n",
       "      <td>61</td>\n",
       "      <td>0</td>\n",
       "      <td>0</td>\n",
       "      <td>0</td>\n",
       "      <td>2</td>\n",
       "      <td>2008</td>\n",
       "      <td>208500</td>\n",
       "      <td>9.042040</td>\n",
       "      <td>6.753438</td>\n",
       "      <td>7.444833</td>\n",
       "      <td>6.753438</td>\n",
       "      <td>...</td>\n",
       "      <td>False</td>\n",
       "      <td>True</td>\n",
       "      <td>False</td>\n",
       "      <td>False</td>\n",
       "      <td>True</td>\n",
       "      <td>False</td>\n",
       "      <td>False</td>\n",
       "      <td>False</td>\n",
       "      <td>False</td>\n",
       "      <td>False</td>\n",
       "      <td>True</td>\n",
       "      <td>False</td>\n",
       "      <td>False</td>\n",
       "      <td>False</td>\n",
       "      <td>False</td>\n",
       "      <td>True</td>\n",
       "      <td>False</td>\n",
       "      <td>False</td>\n",
       "      <td>False</td>\n",
       "      <td>True</td>\n",
       "      <td>False</td>\n",
       "      <td>True</td>\n",
       "      <td>True</td>\n",
       "      <td>False</td>\n",
       "      <td>False</td>\n",
       "      <td>False</td>\n",
       "      <td>False</td>\n",
       "      <td>False</td>\n",
       "      <td>False</td>\n",
       "      <td>False</td>\n",
       "      <td>False</td>\n",
       "      <td>False</td>\n",
       "      <td>False</td>\n",
       "      <td>True</td>\n",
       "      <td>False</td>\n",
       "      <td>False</td>\n",
       "      <td>False</td>\n",
       "      <td>True</td>\n",
       "      <td>False</td>\n",
       "      <td>0.111702</td>\n",
       "    </tr>\n",
       "    <tr>\n",
       "      <th>1</th>\n",
       "      <td>2</td>\n",
       "      <td>60</td>\n",
       "      <td>68.0</td>\n",
       "      <td>11250</td>\n",
       "      <td>7</td>\n",
       "      <td>5</td>\n",
       "      <td>2001</td>\n",
       "      <td>2002</td>\n",
       "      <td>162.0</td>\n",
       "      <td>4.0</td>\n",
       "      <td>4.0</td>\n",
       "      <td>486</td>\n",
       "      <td>920</td>\n",
       "      <td>920</td>\n",
       "      <td>866</td>\n",
       "      <td>1786</td>\n",
       "      <td>1</td>\n",
       "      <td>0</td>\n",
       "      <td>2</td>\n",
       "      <td>1</td>\n",
       "      <td>3</td>\n",
       "      <td>1</td>\n",
       "      <td>4.0</td>\n",
       "      <td>6</td>\n",
       "      <td>1</td>\n",
       "      <td>2001.0</td>\n",
       "      <td>2</td>\n",
       "      <td>608</td>\n",
       "      <td>0</td>\n",
       "      <td>42</td>\n",
       "      <td>0</td>\n",
       "      <td>0</td>\n",
       "      <td>0</td>\n",
       "      <td>9</td>\n",
       "      <td>2008</td>\n",
       "      <td>223500</td>\n",
       "      <td>9.328212</td>\n",
       "      <td>6.825460</td>\n",
       "      <td>7.488294</td>\n",
       "      <td>6.825460</td>\n",
       "      <td>...</td>\n",
       "      <td>False</td>\n",
       "      <td>True</td>\n",
       "      <td>False</td>\n",
       "      <td>False</td>\n",
       "      <td>False</td>\n",
       "      <td>False</td>\n",
       "      <td>True</td>\n",
       "      <td>False</td>\n",
       "      <td>False</td>\n",
       "      <td>False</td>\n",
       "      <td>True</td>\n",
       "      <td>False</td>\n",
       "      <td>False</td>\n",
       "      <td>False</td>\n",
       "      <td>False</td>\n",
       "      <td>True</td>\n",
       "      <td>False</td>\n",
       "      <td>False</td>\n",
       "      <td>False</td>\n",
       "      <td>True</td>\n",
       "      <td>False</td>\n",
       "      <td>True</td>\n",
       "      <td>True</td>\n",
       "      <td>False</td>\n",
       "      <td>False</td>\n",
       "      <td>False</td>\n",
       "      <td>False</td>\n",
       "      <td>False</td>\n",
       "      <td>False</td>\n",
       "      <td>False</td>\n",
       "      <td>False</td>\n",
       "      <td>False</td>\n",
       "      <td>False</td>\n",
       "      <td>True</td>\n",
       "      <td>False</td>\n",
       "      <td>False</td>\n",
       "      <td>False</td>\n",
       "      <td>True</td>\n",
       "      <td>False</td>\n",
       "      <td>0.111702</td>\n",
       "    </tr>\n",
       "    <tr>\n",
       "      <th>2</th>\n",
       "      <td>3</td>\n",
       "      <td>70</td>\n",
       "      <td>60.0</td>\n",
       "      <td>9550</td>\n",
       "      <td>7</td>\n",
       "      <td>5</td>\n",
       "      <td>1915</td>\n",
       "      <td>1970</td>\n",
       "      <td>0.0</td>\n",
       "      <td>3.0</td>\n",
       "      <td>3.0</td>\n",
       "      <td>216</td>\n",
       "      <td>756</td>\n",
       "      <td>961</td>\n",
       "      <td>756</td>\n",
       "      <td>1717</td>\n",
       "      <td>1</td>\n",
       "      <td>0</td>\n",
       "      <td>1</td>\n",
       "      <td>0</td>\n",
       "      <td>3</td>\n",
       "      <td>1</td>\n",
       "      <td>4.0</td>\n",
       "      <td>7</td>\n",
       "      <td>1</td>\n",
       "      <td>1998.0</td>\n",
       "      <td>3</td>\n",
       "      <td>642</td>\n",
       "      <td>0</td>\n",
       "      <td>35</td>\n",
       "      <td>272</td>\n",
       "      <td>0</td>\n",
       "      <td>0</td>\n",
       "      <td>2</td>\n",
       "      <td>2006</td>\n",
       "      <td>140000</td>\n",
       "      <td>9.164401</td>\n",
       "      <td>6.629363</td>\n",
       "      <td>7.448916</td>\n",
       "      <td>6.869014</td>\n",
       "      <td>...</td>\n",
       "      <td>False</td>\n",
       "      <td>True</td>\n",
       "      <td>False</td>\n",
       "      <td>True</td>\n",
       "      <td>False</td>\n",
       "      <td>False</td>\n",
       "      <td>False</td>\n",
       "      <td>False</td>\n",
       "      <td>True</td>\n",
       "      <td>False</td>\n",
       "      <td>False</td>\n",
       "      <td>True</td>\n",
       "      <td>False</td>\n",
       "      <td>False</td>\n",
       "      <td>False</td>\n",
       "      <td>True</td>\n",
       "      <td>False</td>\n",
       "      <td>False</td>\n",
       "      <td>False</td>\n",
       "      <td>True</td>\n",
       "      <td>False</td>\n",
       "      <td>True</td>\n",
       "      <td>True</td>\n",
       "      <td>False</td>\n",
       "      <td>False</td>\n",
       "      <td>False</td>\n",
       "      <td>False</td>\n",
       "      <td>False</td>\n",
       "      <td>False</td>\n",
       "      <td>False</td>\n",
       "      <td>False</td>\n",
       "      <td>False</td>\n",
       "      <td>False</td>\n",
       "      <td>True</td>\n",
       "      <td>False</td>\n",
       "      <td>False</td>\n",
       "      <td>False</td>\n",
       "      <td>False</td>\n",
       "      <td>False</td>\n",
       "      <td>0.032675</td>\n",
       "    </tr>\n",
       "    <tr>\n",
       "      <th>3</th>\n",
       "      <td>4</td>\n",
       "      <td>60</td>\n",
       "      <td>84.0</td>\n",
       "      <td>14260</td>\n",
       "      <td>8</td>\n",
       "      <td>5</td>\n",
       "      <td>2000</td>\n",
       "      <td>2000</td>\n",
       "      <td>350.0</td>\n",
       "      <td>4.0</td>\n",
       "      <td>4.0</td>\n",
       "      <td>655</td>\n",
       "      <td>1145</td>\n",
       "      <td>1145</td>\n",
       "      <td>1053</td>\n",
       "      <td>2198</td>\n",
       "      <td>1</td>\n",
       "      <td>0</td>\n",
       "      <td>2</td>\n",
       "      <td>1</td>\n",
       "      <td>4</td>\n",
       "      <td>1</td>\n",
       "      <td>4.0</td>\n",
       "      <td>9</td>\n",
       "      <td>1</td>\n",
       "      <td>2000.0</td>\n",
       "      <td>3</td>\n",
       "      <td>836</td>\n",
       "      <td>192</td>\n",
       "      <td>84</td>\n",
       "      <td>0</td>\n",
       "      <td>0</td>\n",
       "      <td>0</td>\n",
       "      <td>12</td>\n",
       "      <td>2008</td>\n",
       "      <td>250000</td>\n",
       "      <td>9.565284</td>\n",
       "      <td>7.044033</td>\n",
       "      <td>7.695758</td>\n",
       "      <td>7.044033</td>\n",
       "      <td>...</td>\n",
       "      <td>False</td>\n",
       "      <td>True</td>\n",
       "      <td>False</td>\n",
       "      <td>False</td>\n",
       "      <td>False</td>\n",
       "      <td>False</td>\n",
       "      <td>True</td>\n",
       "      <td>False</td>\n",
       "      <td>False</td>\n",
       "      <td>False</td>\n",
       "      <td>True</td>\n",
       "      <td>False</td>\n",
       "      <td>False</td>\n",
       "      <td>False</td>\n",
       "      <td>False</td>\n",
       "      <td>True</td>\n",
       "      <td>False</td>\n",
       "      <td>False</td>\n",
       "      <td>False</td>\n",
       "      <td>True</td>\n",
       "      <td>False</td>\n",
       "      <td>True</td>\n",
       "      <td>True</td>\n",
       "      <td>False</td>\n",
       "      <td>False</td>\n",
       "      <td>False</td>\n",
       "      <td>False</td>\n",
       "      <td>False</td>\n",
       "      <td>False</td>\n",
       "      <td>False</td>\n",
       "      <td>False</td>\n",
       "      <td>False</td>\n",
       "      <td>False</td>\n",
       "      <td>True</td>\n",
       "      <td>False</td>\n",
       "      <td>False</td>\n",
       "      <td>False</td>\n",
       "      <td>True</td>\n",
       "      <td>False</td>\n",
       "      <td>0.026596</td>\n",
       "    </tr>\n",
       "    <tr>\n",
       "      <th>4</th>\n",
       "      <td>5</td>\n",
       "      <td>50</td>\n",
       "      <td>85.0</td>\n",
       "      <td>14115</td>\n",
       "      <td>5</td>\n",
       "      <td>5</td>\n",
       "      <td>1993</td>\n",
       "      <td>1995</td>\n",
       "      <td>0.0</td>\n",
       "      <td>3.0</td>\n",
       "      <td>4.0</td>\n",
       "      <td>732</td>\n",
       "      <td>796</td>\n",
       "      <td>796</td>\n",
       "      <td>566</td>\n",
       "      <td>1362</td>\n",
       "      <td>1</td>\n",
       "      <td>0</td>\n",
       "      <td>1</td>\n",
       "      <td>1</td>\n",
       "      <td>1</td>\n",
       "      <td>1</td>\n",
       "      <td>3.0</td>\n",
       "      <td>5</td>\n",
       "      <td>0</td>\n",
       "      <td>1993.0</td>\n",
       "      <td>2</td>\n",
       "      <td>480</td>\n",
       "      <td>40</td>\n",
       "      <td>30</td>\n",
       "      <td>0</td>\n",
       "      <td>1</td>\n",
       "      <td>0</td>\n",
       "      <td>10</td>\n",
       "      <td>2009</td>\n",
       "      <td>143000</td>\n",
       "      <td>9.555064</td>\n",
       "      <td>6.680855</td>\n",
       "      <td>7.217443</td>\n",
       "      <td>6.680855</td>\n",
       "      <td>...</td>\n",
       "      <td>False</td>\n",
       "      <td>True</td>\n",
       "      <td>False</td>\n",
       "      <td>False</td>\n",
       "      <td>True</td>\n",
       "      <td>False</td>\n",
       "      <td>False</td>\n",
       "      <td>False</td>\n",
       "      <td>False</td>\n",
       "      <td>False</td>\n",
       "      <td>False</td>\n",
       "      <td>True</td>\n",
       "      <td>False</td>\n",
       "      <td>False</td>\n",
       "      <td>False</td>\n",
       "      <td>True</td>\n",
       "      <td>False</td>\n",
       "      <td>False</td>\n",
       "      <td>False</td>\n",
       "      <td>True</td>\n",
       "      <td>False</td>\n",
       "      <td>True</td>\n",
       "      <td>False</td>\n",
       "      <td>False</td>\n",
       "      <td>False</td>\n",
       "      <td>True</td>\n",
       "      <td>False</td>\n",
       "      <td>False</td>\n",
       "      <td>False</td>\n",
       "      <td>False</td>\n",
       "      <td>False</td>\n",
       "      <td>False</td>\n",
       "      <td>False</td>\n",
       "      <td>True</td>\n",
       "      <td>False</td>\n",
       "      <td>False</td>\n",
       "      <td>False</td>\n",
       "      <td>True</td>\n",
       "      <td>False</td>\n",
       "      <td>0.032675</td>\n",
       "    </tr>\n",
       "  </tbody>\n",
       "</table>\n",
       "<p>5 rows × 197 columns</p>\n",
       "</div>"
      ],
      "text/plain": [
       "   Unnamed: 0  MSSubClass  ...  SaleCondition_Partial  Neighborhood_FE\n",
       "0           0          60  ...                  False         0.111702\n",
       "1           2          60  ...                  False         0.111702\n",
       "2           3          70  ...                  False         0.032675\n",
       "3           4          60  ...                  False         0.026596\n",
       "4           5          50  ...                  False         0.032675\n",
       "\n",
       "[5 rows x 197 columns]"
      ]
     },
     "execution_count": 7,
     "metadata": {},
     "output_type": "execute_result"
    }
   ],
   "source": [
    "clean_data.head()"
   ]
  },
  {
   "cell_type": "code",
   "execution_count": 10,
   "id": "bc11cd68",
   "metadata": {},
   "outputs": [
    {
     "data": {
      "text/html": [
       "Tracking run with wandb version 0.19.11"
      ],
      "text/plain": [
       "<IPython.core.display.HTML object>"
      ]
     },
     "metadata": {},
     "output_type": "display_data"
    },
    {
     "data": {
      "text/html": [
       "Run data is saved locally in <code>c:\\Users\\ASUS\\Downloads\\Mlop-prj-main\\Mlop-prj-main\\wandb\\run-20250511_090503-4g9m9sly</code>"
      ],
      "text/plain": [
       "<IPython.core.display.HTML object>"
      ]
     },
     "metadata": {},
     "output_type": "display_data"
    },
    {
     "data": {
      "text/html": [
       "Syncing run <strong><a href='https://wandb.ai/kngocun-/predict_house_price/runs/4g9m9sly' target=\"_blank\">dulcet-shadow-310</a></strong> to <a href='https://wandb.ai/kngocun-/predict_house_price' target=\"_blank\">Weights & Biases</a> (<a href='https://wandb.me/developer-guide' target=\"_blank\">docs</a>)<br>"
      ],
      "text/plain": [
       "<IPython.core.display.HTML object>"
      ]
     },
     "metadata": {},
     "output_type": "display_data"
    },
    {
     "data": {
      "text/html": [
       " View project at <a href='https://wandb.ai/kngocun-/predict_house_price' target=\"_blank\">https://wandb.ai/kngocun-/predict_house_price</a>"
      ],
      "text/plain": [
       "<IPython.core.display.HTML object>"
      ]
     },
     "metadata": {},
     "output_type": "display_data"
    },
    {
     "data": {
      "text/html": [
       " View run at <a href='https://wandb.ai/kngocun-/predict_house_price/runs/4g9m9sly' target=\"_blank\">https://wandb.ai/kngocun-/predict_house_price/runs/4g9m9sly</a>"
      ],
      "text/plain": [
       "<IPython.core.display.HTML object>"
      ]
     },
     "metadata": {},
     "output_type": "display_data"
    },
    {
     "name": "stderr",
     "output_type": "stream",
     "text": [
      "\u001b[34m\u001b[1mwandb\u001b[0m: \u001b[32m\u001b[41mERROR\u001b[0m The nbformat package was not found. It is required to save notebook history.\n"
     ]
    },
    {
     "data": {
      "text/html": [],
      "text/plain": [
       "<IPython.core.display.HTML object>"
      ]
     },
     "metadata": {},
     "output_type": "display_data"
    },
    {
     "data": {
      "text/html": [
       " View run <strong style=\"color:#cdcd00\">dulcet-shadow-310</strong> at: <a href='https://wandb.ai/kngocun-/predict_house_price/runs/4g9m9sly' target=\"_blank\">https://wandb.ai/kngocun-/predict_house_price/runs/4g9m9sly</a><br> View project at: <a href='https://wandb.ai/kngocun-/predict_house_price' target=\"_blank\">https://wandb.ai/kngocun-/predict_house_price</a><br>Synced 5 W&B file(s), 0 media file(s), 2 artifact file(s) and 0 other file(s)"
      ],
      "text/plain": [
       "<IPython.core.display.HTML object>"
      ]
     },
     "metadata": {},
     "output_type": "display_data"
    },
    {
     "data": {
      "text/html": [
       "Find logs at: <code>.\\wandb\\run-20250511_090503-4g9m9sly\\logs</code>"
      ],
      "text/plain": [
       "<IPython.core.display.HTML object>"
      ]
     },
     "metadata": {},
     "output_type": "display_data"
    }
   ],
   "source": [
    "run = wandb.init(project=\"predict_house_price\", job_type=\"upload_preprocessing\")\n",
    "\n",
    "os.makedirs(\"preprocessed_data\", exist_ok=True)\n",
    "\n",
    "clean_data.to_csv(\"preprocessed_data/preprocessed_data.csv\", index=False)\n",
    "\n",
    "artifact = wandb.Artifact(\n",
    "    name=\"preprocessed_data\",       # tên artifact Kun muốn\n",
    "    type=\"processed_data\",           # kiểu dữ liệu\n",
    "    description=\"Preprocessed dataset before training models\"\n",
    ")\n",
    "\n",
    "artifact.add_file(\"preprocessed_data/preprocessed_data.csv\")\n",
    "\n",
    "run.log_artifact(artifact)\n",
    "\n",
    "run.finish()"
   ]
  },
  {
   "cell_type": "code",
   "execution_count": null,
   "id": "ebbd7da4",
   "metadata": {},
   "outputs": [],
   "source": [
    "#ProfileReport(clean_data, title='kun', explorative=True)"
   ]
  },
  {
   "cell_type": "code",
   "execution_count": 12,
   "id": "319d4e10",
   "metadata": {},
   "outputs": [],
   "source": [
    "# 2. Tách X và y\n",
    "X = clean_data.drop(columns=[\"SalePrice\"])\n",
    "y = np.log1p(clean_data[\"SalePrice\"])"
   ]
  },
  {
   "cell_type": "code",
   "execution_count": 13,
   "id": "11f300ad",
   "metadata": {},
   "outputs": [],
   "source": [
    "X_train, X_test, y_train, y_test = train_test_split(X, y, test_size=0.2, random_state=42)"
   ]
  },
  {
   "cell_type": "code",
   "execution_count": null,
   "id": "bc46975f",
   "metadata": {},
   "outputs": [
    {
     "data": {
      "text/html": [
       "Tracking run with wandb version 0.19.11"
      ],
      "text/plain": [
       "<IPython.core.display.HTML object>"
      ]
     },
     "metadata": {},
     "output_type": "display_data"
    },
    {
     "data": {
      "text/html": [
       "Run data is saved locally in <code>c:\\Users\\ASUS\\Downloads\\khong-co-wandb-main\\khong-co-wandb-main\\wandb\\run-20250511_082417-2ehkucf5</code>"
      ],
      "text/plain": [
       "<IPython.core.display.HTML object>"
      ]
     },
     "metadata": {},
     "output_type": "display_data"
    },
    {
     "data": {
      "text/html": [
       "Syncing run <strong><a href='https://wandb.ai/kngocun-/predict_house_price/runs/2ehkucf5' target=\"_blank\">logical-dream-284</a></strong> to <a href='https://wandb.ai/kngocun-/predict_house_price' target=\"_blank\">Weights & Biases</a> (<a href='https://wandb.me/developer-guide' target=\"_blank\">docs</a>)<br>"
      ],
      "text/plain": [
       "<IPython.core.display.HTML object>"
      ]
     },
     "metadata": {},
     "output_type": "display_data"
    },
    {
     "data": {
      "text/html": [
       " View project at <a href='https://wandb.ai/kngocun-/predict_house_price' target=\"_blank\">https://wandb.ai/kngocun-/predict_house_price</a>"
      ],
      "text/plain": [
       "<IPython.core.display.HTML object>"
      ]
     },
     "metadata": {},
     "output_type": "display_data"
    },
    {
     "data": {
      "text/html": [
       " View run at <a href='https://wandb.ai/kngocun-/predict_house_price/runs/2ehkucf5' target=\"_blank\">https://wandb.ai/kngocun-/predict_house_price/runs/2ehkucf5</a>"
      ],
      "text/plain": [
       "<IPython.core.display.HTML object>"
      ]
     },
     "metadata": {},
     "output_type": "display_data"
    },
    {
     "name": "stderr",
     "output_type": "stream",
     "text": [
      "\u001b[34m\u001b[1mwandb\u001b[0m: \u001b[32m\u001b[41mERROR\u001b[0m The nbformat package was not found. It is required to save notebook history.\n"
     ]
    },
    {
     "data": {
      "text/html": [],
      "text/plain": [
       "<IPython.core.display.HTML object>"
      ]
     },
     "metadata": {},
     "output_type": "display_data"
    },
    {
     "data": {
      "text/html": [
       " View run <strong style=\"color:#cdcd00\">logical-dream-284</strong> at: <a href='https://wandb.ai/kngocun-/predict_house_price/runs/2ehkucf5' target=\"_blank\">https://wandb.ai/kngocun-/predict_house_price/runs/2ehkucf5</a><br> View project at: <a href='https://wandb.ai/kngocun-/predict_house_price' target=\"_blank\">https://wandb.ai/kngocun-/predict_house_price</a><br>Synced 5 W&B file(s), 0 media file(s), 5 artifact file(s) and 0 other file(s)"
      ],
      "text/plain": [
       "<IPython.core.display.HTML object>"
      ]
     },
     "metadata": {},
     "output_type": "display_data"
    },
    {
     "data": {
      "text/html": [
       "Find logs at: <code>.\\wandb\\run-20250511_082417-2ehkucf5\\logs</code>"
      ],
      "text/plain": [
       "<IPython.core.display.HTML object>"
      ]
     },
     "metadata": {},
     "output_type": "display_data"
    }
   ],
   "source": [
    "run = wandb.init(project=\"predict_house_price\", job_type='upload_pca_data')\n",
    "\n",
    "output_dir = \"pca_data\"\n",
    "os.makedirs(output_dir, exist_ok=True)\n",
    "\n",
    "\n",
    "X_train.to_csv(os.path.join(output_dir, \"X_train.csv\"), index=True)\n",
    "X_test.to_csv(os.path.join(output_dir, \"X_test.csv\"), index=True)\n",
    "y_train.to_csv(os.path.join(output_dir, \"y_train.csv\"), index=True)\n",
    "y_test.to_csv(os.path.join(output_dir, \"y_test.csv\"), index=True)\n",
    "\n",
    "# Tạo artifact chung\n",
    "artifact = wandb.Artifact(\n",
    "    name=\"pca_X_y_train_test\",\n",
    "    type=\"processed_data\",\n",
    "    description=\"Dữ liệu X và y đã giảm chiều bằng PCA cho tập train/test\"\n",
    ")\n",
    "\n",
    "# Add file vào artifact\n",
    "artifact.add_file(os.path.join(output_dir, \"X_train.csv\"))\n",
    "artifact.add_file(os.path.join(output_dir, \"X_test.csv\"))\n",
    "artifact.add_file(os.path.join(output_dir, \"y_train.csv\"))\n",
    "artifact.add_file(os.path.join(output_dir, \"y_test.csv\"))\n",
    "\n",
    "# Upload lên wandb\n",
    "run.log_artifact(artifact)\n",
    "\n",
    "run.finish()\n"
   ]
  }
 ],
 "metadata": {
  "kernelspec": {
   "display_name": ".venv",
   "language": "python",
   "name": "python3"
  },
  "language_info": {
   "codemirror_mode": {
    "name": "ipython",
    "version": 3
   },
   "file_extension": ".py",
   "mimetype": "text/x-python",
   "name": "python",
   "nbconvert_exporter": "python",
   "pygments_lexer": "ipython3",
   "version": "3.12.9"
  }
 },
 "nbformat": 4,
 "nbformat_minor": 5
}
